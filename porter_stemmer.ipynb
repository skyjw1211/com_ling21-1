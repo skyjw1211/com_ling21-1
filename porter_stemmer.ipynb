{
 "metadata": {
  "language_info": {
   "codemirror_mode": {
    "name": "ipython",
    "version": 3
   },
   "file_extension": ".py",
   "mimetype": "text/x-python",
   "name": "python",
   "nbconvert_exporter": "python",
   "pygments_lexer": "ipython3",
   "version": "3.9.4-final"
  },
  "orig_nbformat": 2,
  "kernelspec": {
   "name": "python394jvsc74a57bd0836acb63e37c07207de8144628c09bf34502e05625739bb8ec53760833250564",
   "display_name": "Python 3.9.4 64-bit"
  },
  "metadata": {
   "interpreter": {
    "hash": "836acb63e37c07207de8144628c09bf34502e05625739bb8ec53760833250564"
   }
  }
 },
 "nbformat": 4,
 "nbformat_minor": 2,
 "cells": [
  {
   "source": [
    "# c+ = C, v+ = V\n",
    "# (C)(VC)^m(V)\n",
    "# m=0, m=1, m=2 ..."
   ],
   "cell_type": "code",
   "metadata": {},
   "execution_count": null,
   "outputs": []
  },
  {
   "source": [
    "# (condition) s1 -> s2"
   ],
   "cell_type": "code",
   "metadata": {},
   "execution_count": null,
   "outputs": []
  },
  {
   "cell_type": "code",
   "execution_count": 2,
   "metadata": {},
   "outputs": [],
   "source": [
    "# *S: S로 끝나는 어간\n",
    "# *V*: 모음으로 끝나는 어간\n",
    "# *d: 두 개의 자음을 갖는 어간\n",
    "# *o: cvc로 끝나는 어간, 두번째 c는 W, X, Y가 아니다 (e.g. -WIL, -HOP)"
   ]
  },
  {
   "cell_type": "code",
   "execution_count": 15,
   "metadata": {},
   "outputs": [],
   "source": [
    "import re\n",
    "with open('data_tokenized.txt', 'r') as f:\n",
    "    data = f.read()\n",
    "\n",
    "token_list = data.split()"
   ]
  },
  {
   "cell_type": "code",
   "execution_count": 16,
   "metadata": {},
   "outputs": [],
   "source": [
    "##step_1a\n",
    "\n",
    "step_1a_before_list = [r'(?:^|\\s)([A-Za-z]+?)sses(?:\\s|$)', \\\n",
    "                        r'(?:^|\\s)([A-Za-z]+?)ies', \\\n",
    "                        r'(?:^|\\s)([A-Za-z]+?)ss(?:\\s|$)', \\\n",
    "                        r'(?:^|\\s)([A-Za-z]+?[^s])s(?:\\s|$)']\n",
    "step_1a_after_list = [r' /\\1ss/ ', r' /\\1i/ ', r' /\\1ss/ ', r' /\\1/ '] ## //로 두번 적용을 막음"
   ]
  },
  {
   "cell_type": "code",
   "execution_count": 17,
   "metadata": {},
   "outputs": [],
   "source": [
    "##step_1b\n",
    "\n",
    "# condition은 어떻게 적용? for 문으로 어절 하나씩 보면서 조건에 맞으면 변화 수행\n",
    "v = r'[aeiou]'\n",
    "c = r'[b-df-hj-np-tv-z]'\n",
    "m = r'([aeiou][b-df-hj-np-tv-z])'\n",
    "m2 = r'([aeiou][b-df-hj-np-tv-z]{2})'\n",
    "o = r'([A-Za-z]*?[b-df-hj-np-tv-z][aeiou][b-df-hj-np-tvz]$)'\n",
    "\n",
    "# if not pattern.findall(m, string) ## (m>0) -> regex 안에 포함?\n",
    "# if not pattern.findall(v, string) ## (*v*) -> regex 안에 포함\n",
    "\n",
    "\n",
    "step_1b_before_list = [r'(?:^|\\s)(?:^|\\s)([A-Za-z]*?[aeiou][b-df-hj-np-tv-z][A-Za-z]*?)eed(?:\\s|$)', \\\n",
    "                        r'(?:^|\\s)([A-Za-z]*?[aeiou][A-Za-z]*?[^e])ed(?:\\s|$)', \\\n",
    "                        r'(?:^|\\s)([A-Za-z]*?[aeiou][A-Za-z]*?)ing(?:\\s|$)']\n",
    "step_1b_after_list = [r' /\\1ee/ ', r' \\1 ', r' \\1 ']\n",
    "\n",
    "\n",
    "# if pattern.findall(m, string) and not pattern.findall(m2, string) and pattern.findall(m2, string) ## (m=1 and *o) -> regex 안에 포함\n",
    "step_1b_before_list2 = [r'(?:^|\\s)([A-Za-z]+?)at(?:\\s|$)', \\\n",
    "                         r'(?:^|\\s)([A-Za-z]+?)bl(?:\\s|$)', \\\n",
    "                         r'(?:^|\\s)([A-Za-z]+?)iz(?:\\s|$)', \\\n",
    "                        r'(?:^|\\s)([A-Za-z]+?)([a-km-rt-y])\\2(?:\\s|$)', \\\n",
    "                        r'(?:^|\\s)([b-df-hj-np-tv-z]+[aeiou][b-df-hj-np-tvz])(?:\\s|$)']\n",
    "step_1b_after_list2 = [r' /\\1ate/ ', r' /\\1ble/ ', r' /\\1ize/ ', r' /\\1\\2/ ', r' /\\1e/ ']\n"
   ]
  },
  {
   "cell_type": "code",
   "execution_count": 18,
   "metadata": {},
   "outputs": [],
   "source": [
    "##step_1c\n",
    "# if not pattern.findall(v, string) ## (*v*)\n",
    "step_1c_before_list = [r'(?:^|\\s)([A-Za-z]*?[aeiou][A-Za-z]*?)y(?:\\s|$)']\n",
    "step_1c_after_list = [r' /\\1i/ ']"
   ]
  },
  {
   "cell_type": "code",
   "execution_count": 19,
   "metadata": {},
   "outputs": [
    {
     "output_type": "execute_result",
     "data": {
      "text/plain": [
       "['k']"
      ]
     },
     "metadata": {},
     "execution_count": 19
    }
   ],
   "source": [
    "re.findall(r'([a-km-rt-y])\\1','abllcdefghijkklmnop') #lsz 제외"
   ]
  },
  {
   "cell_type": "code",
   "execution_count": 29,
   "metadata": {},
   "outputs": [
    {
     "output_type": "stream",
     "name": "stdout",
     "text": [
      "0  /caress/  ponies  ties  caress  cats  feed  agreed  plastered  bled  motoring  sing  conflated  troubled  sized  hopping  tanned  falling  hissing  fizzed  failing  filing  happy  sky\n1  /caress/  /poni/   /ti/   caress  cats  feed  agreed  plastered  bled  motoring  sing  conflated  troubled  sized  hopping  tanned  falling  hissing  fizzed  failing  filing  happy  sky\n2  /caress/  /poni/   /ti/   /caress/  cats  feed  agreed  plastered  bled  motoring  sing  conflated  troubled  sized  hopping  tanned  falling  hissing  fizzed  failing  filing  happy  sky\n3  /caress/  /poni/   /ti/   /caress/  /cat/  feed  agreed  plastered  bled  motoring  sing  conflated  troubled  sized  hopping  tanned  falling  hissing  fizzed  failing  filing  happy  sky\n\n0  /caress/  /poni/   /ti/   /caress/  /cat/  feed /agree/  plastered  bled  motoring  sing  conflated  troubled  sized  hopping  tanned  falling  hissing  fizzed  failing  filing  happy  sky\n1  /caress/  /poni/   /ti/   /caress/  /cat/  feed /agree/  plaster  bled  motoring  sing  conflat  troubl  siz  hopping  tann  falling  hissing  fizz  failing  filing  happy  sky\n2  /caress/  /poni/   /ti/   /caress/  /cat/  feed /agree/  plaster  bled  motor  sing  conflat  troubl  siz  hopp  tann  fall  hiss  fizz  fail  fil  happy  sky\n\n0  /caress/  /poni/   /ti/   /caress/  /cat/  feed /agree/  plaster  bled  motor  sing  /conflate/  troubl  siz  hopp  tann  fall  hiss  fizz  fail  fil  happy  sky\n1  /caress/  /poni/   /ti/   /caress/  /cat/  feed /agree/  plaster  bled  motor  sing  /conflate/  /trouble/  siz  hopp  tann  fall  hiss  fizz  fail  fil  happy  sky\n2  /caress/  /poni/   /ti/   /caress/  /cat/  feed /agree/  plaster  bled  motor  sing  /conflate/  /trouble/  /size/  hopp  tann  fall  hiss  fizz  fail  fil  happy  sky\n3  /caress/  /poni/   /ti/   /caress/  /cat/  feed /agree/  plaster  bled  motor  sing  /conflate/  /trouble/  /size/  /hop/  /tan/  fall  hiss  fizz  fail  fil  happy  sky\n4  /caress/  /poni/   /ti/   /caress/  /cat/  feed /agree/  plaster  /blede/  motor  sing  /conflate/  /trouble/  /size/  /hop/  /tan/  fall  hiss  fizz  fail  /file/  happy  sky\n\n0  /caress/  /poni/   /ti/   /caress/  /cat/  feed /agree/  plaster  /blede/  motor  sing  /conflate/  /trouble/  /size/  /hop/  /tan/  fall  hiss  fizz  fail  /file/  /happi/  sky\n\n /caress/ /poni/ /ti/ /caress/ /cat/ feed /agree/ plaster /blede/ motor sing /conflate/ /trouble/ /size/ /hop/ /tan/ fall hiss fizz fail /file/ /happi/ sky\n"
     ]
    }
   ],
   "source": [
    "#step pipeline\n",
    "test_case = 'caresses ponies ties caress cats feed agreed plastered bled motoring  sing conflated troubled sized hopping tanned falling hissing fizzed failing filing happy sky'\n",
    "test_case = '  '.join(test_case.split())\n",
    "\n",
    "data = '  '.join(data.split())\n",
    "\n",
    "def porter_stemmer(tokens):\n",
    "    for i in range(len(step_1a_before_list)):\n",
    "        tokens = re.sub(step_1a_before_list[i], step_1a_after_list[i], tokens)\n",
    "        print(i, tokens)\n",
    "    print()\n",
    "    for i in range(len(step_1b_before_list)):\n",
    "        tokens = re.sub(step_1b_before_list[i], step_1b_after_list[i], tokens)\n",
    "        print(i, tokens)\n",
    "    print()\n",
    "    for i in range(len(step_1b_before_list2)):\n",
    "        tokens = re.sub(step_1b_before_list2[i], step_1b_after_list2[i], tokens)\n",
    "        print(i, tokens)\n",
    "    print()\n",
    "\n",
    "    for i in range(len(step_1c_before_list)):\n",
    "        tokens = re.sub(step_1c_before_list[i], step_1c_after_list[i], tokens)\n",
    "        print(i, tokens)\n",
    "    print()\n",
    "\n",
    "    tokens = re.sub('\\s{2,}', ' ', tokens)\n",
    "    return tokens\n",
    "\n",
    "test_case = porter_stemmer(test_case)\n",
    "#feed 이중 적용 문제, 같은 단계의 패턴은 동시에 캡쳐됨? - 정규표현식으로 가능?\n",
    "print(test_case)\n"
   ]
  },
  {
   "cell_type": "code",
   "execution_count": 26,
   "metadata": {},
   "outputs": [
    {
     "output_type": "execute_result",
     "data": {
      "text/plain": [
       "'caress'"
      ]
     },
     "metadata": {},
     "execution_count": 26
    }
   ],
   "source": [
    "re.sub(step_1b_before_list[2], step_1b_after_list[2], 'caress')"
   ]
  },
  {
   "cell_type": "code",
   "execution_count": 27,
   "metadata": {},
   "outputs": [
    {
     "output_type": "stream",
     "name": "stdout",
     "text": [
      "(',', 101)\n('the', 86)\n('.', 79)\n('to', 62)\n('a', 45)\n('of', 43)\n('\"', 42)\n('in', 32)\n('it', 29)\n('/thate/', 27)\n('and', 23)\n('is', 22)\n('robot', 22)\n('/fore/', 16)\n('with', 16)\n('at', 15)\n('/say/', 15)\n('watson', 13)\n('on', 13)\n('/it/', 10)\n('by', 10)\n('/compani/', 10)\n('train', 10)\n('could', 10)\n('/robot/', 10)\n('brain', 10)\n('ibm', 9)\n('an', 9)\n('be', 9)\n('more', 9)\n('are', 9)\n('as', 8)\n('/wa/', 8)\n('said', 8)\n('/se/', 8)\n('/ha/', 8)\n('would', 8)\n('izhikevich', 8)\n(\"'s\", 8)\n('corporation', 8)\n('out', 7)\n('he', 7)\n('one', 7)\n('you', 7)\n('fertilizer', 7)\n('/systeme/', 6)\n('rhodin', 6)\n('make', 6)\n('(', 6)\n(')', 6)\n"
     ]
    }
   ],
   "source": [
    "import collections\n",
    "stems = stems.split()\n",
    "stems_lower = list(map(lambda x: x.lower(), stems)) \n",
    "count = collections.Counter(stems_lower)\n",
    "most = count.most_common() #빈도 수 순으로 추출\n",
    "for m in most[:50]:\n",
    "    print(m)"
   ]
  },
  {
   "cell_type": "code",
   "execution_count": null,
   "metadata": {},
   "outputs": [],
   "source": []
  }
 ]
}