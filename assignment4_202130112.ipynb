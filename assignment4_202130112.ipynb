{
 "metadata": {
  "language_info": {
   "codemirror_mode": {
    "name": "ipython",
    "version": 3
   },
   "file_extension": ".py",
   "mimetype": "text/x-python",
   "name": "python",
   "nbconvert_exporter": "python",
   "pygments_lexer": "ipython3",
   "version": "3.7.6"
  },
  "orig_nbformat": 2,
  "kernelspec": {
   "name": "python376jvsc74a57bd0e8813aa306258d02239a9b9353bf9b8cec1d50d6c65e27f1ac1f61dc8fb38dbf",
   "display_name": "Python 3.7.6 64-bit ('base': conda)"
  },
  "metadata": {
   "interpreter": {
    "hash": "836acb63e37c07207de8144628c09bf34502e05625739bb8ec53760833250564"
   }
  }
 },
 "nbformat": 4,
 "nbformat_minor": 2,
 "cells": [
  {
   "cell_type": "code",
   "execution_count": 1,
   "metadata": {},
   "outputs": [],
   "source": [
    "## libraries\n",
    "import re\n",
    "import nltk"
   ]
  },
  {
   "cell_type": "code",
   "execution_count": 2,
   "metadata": {},
   "outputs": [],
   "source": [
    "## load text\n",
    "with open('data.txt', 'r') as f:\n",
    "    data = f.read()"
   ]
  },
  {
   "source": [
    "## Tokenization\n",
    "#comma, dot, apostrophe, colon, semicolon, quotation marks, question, exclamation marks, parenthesis, dollor sign.\n",
    "#comma, colon, semicolon, question, aprenthesis, double quotation marks, exclamation, dollor sign: 바로 적용\n",
    "#dot: 문장 마침표에만 적용해야 함. (약어, 소숫점 문제)\n",
    "#clitics: 's, n't\n",
    "\n",
    "#1. 우선 다 자르고(clitics 제외)) 모아주기? mwe도 모아주고 등등\n",
    "#합치기 어떻게? join으로 \n",
    "#합칠 대상 어떻게 찾지? 중심 토큰과 주변 토큰\n",
    "\n",
    "punct = re.compile(r'([^A-Za-z\\s])') #모든 punctuation\n",
    "data = re.sub(punct, ' \\1 ', data)\n",
    "\n",
    "#2. 우선 띄어쓰기로 나누고 어절 내에서 토큰화 세부 적용\n",
    "#세부적용시 조건? 마지막과 처음에서만, r'(?:^|\\s)([^A-Za-z\\s0-9]+)([A-Za-z0-9]+)(?:$|\\s)' > r' \\1 \\2 ', r'(?:^|\\s)([A-Za-z0-9]+)([^A-Za-z\\s0-9]+)(?:$|\\s)' > r' \\1 \\2 '\n",
    "#2번 적용해 줘야 함. 띄어쓰기가 겹치기 때문\n",
    "#comma: 숫자 문제, 1,000 붙여씀 굳\n",
    "#loop 돌면서 나눈다?\n",
    "#abs' 와 같은 문제\n",
    "#punct: ([^A-Za-z\\s0-9]+)\n",
    "#alpha numeric: ([A-Za-z0-9]+)\n",
    "#punct 집합을 어떻게 나누지?\n",
    "#$2.5 안 나뉘어 졌음\n",
    "#\"neuromorphic\" 안 나뉘어 졌음..\n",
    "#n't, 's 같은 clitics 나누어 주어야 함 - can't 는 can n't로 \n",
    "#U.S.은 왜 안짤렸지? - 내부에 .이 있는 어절 이어서\n",
    "#.....과 같은 문제 나중에 붙여준다.\n",
    "#어절 내의 내부구조를 최대한 유지하면서\n",
    "#Mr. 등등 호칭어의 경우\n",
    "\n",
    "data = data.split()\n",
    "data = list(map(lambda x: x, data))\n",
    "\n",
    "\n",
    "\n"
   ],
   "cell_type": "markdown",
   "metadata": {}
  },
  {
   "cell_type": "code",
   "execution_count": 3,
   "metadata": {},
   "outputs": [
    {
     "output_type": "stream",
     "name": "stdout",
     "text": [
      "Three years after its artificial-intelligence engine Watson made its high-profile win on Jeopardy ! , IBM is adapting the technology as it seeks practical commercial uses , an IBM executive explained yesterday at EmTech , a conference organized by MIT Technology Review . The original version of Watson was built around a question-and-answer format optimized for the game show , but that turned out to be \" just the first building block \" in an emerging artificial-intelligence system , said Mike Rhodin , senior vice president of the IBM Watson Group . Rhodin said IBM is refining Watson to make it more adept at providing the correct answer to a specific question in a specific domain?for example , by learning from previous queries . \" Just as [ computer operating system ] platforms emerged in the 1960s , we are seeing the beginnings of that kind of a system emerge in the information age , \" he said . In the past year , despite skepticism in some quarters , the company has announced it was making more investments in the Watson platform ( see \" Facing Doubters , IBM Expands Plans for Watson \" ) . It has also opened the platform to app developers ( see \" Trained on Jeopardy ! , Watson Is Headed for Your Pocket \" ) . Some results of that strategy are now emerging . In one recent competition run by IBM , a startup called Majestyk came up with an app that added Watson functionality to a stuffed animal so that it could converse with a child and give feedback to educators?potentially revealing whether the child might have learning disabilities . \" We never would have thought of it ; we do n't have that DNA , \" he said . \" It validated the idea that we needed to open up the platform and make it available to the startup marketplace . \" Ultimately , Rhodin said , IBM will pursue a revenue-sharing model for any effort that reaches market . The company also continues to pursue applications in the medical , financial , and legal sectors . Using Watson to examine thousands of documents could , for example , help doctors see different diagnoses in order of probability and \" rule out things they did n't think of , \" Rhodin said . IBM has also been working with USAA , a company that provides financial services to U.S. military personnel . The Watson engine analyzes more than 3,000 USAA documents about financial or health-care benefits and answers questions from USAA users . At the EmTech conference , a questioner from USAA pointed out that the system was having some trouble , in part because it would not allow users to ask follow-up questions . Each request was treated as a standalone problem , making Watson awkward to use at times . Rhodin said he would meet with USAA later this week . Even with such stumbles , IBM has high hopes for getting Watson to work well in medical settings ( see \" Watson Goes to Work in the Hospital \" ) . And Rhodin said significant effort is now being expended on applying the technology to automated call centers . Eugene Izhikevich thinks you should n't have to write code in order to teach robots new tricks . \" It should be more like training a dog , \" he says . \" Instead of programming , you show it consistent examples of desired behavior . \" Izhikevich 's startup , Brain Corporation , based in San Diego , has developed an operating system for robots called BrainOS to make that possible . To teach a robot running the software to pick up trash , for example , you would use a remote control to repeatedly guide its gripper to perform that task . After just minutes of repetition , the robot would take the initiative and start doing the task for itself . \" Once you train it , it 's fully autonomous , \" says Izhikevich , who is cofounder and CEO of the company . Izhikevich says the approach will make it easier to produce low-cost service robots capable of simple tasks . Programming robots to behave intelligently normally requires significant expertise , he says , pointing out that the most successful home robot today is the Roomba , released in 2002 . The Roomba is preprogrammed to perform one main task : driving around at random to cover as much of an area of floor as possible . Brain Corporation hopes to make money by providing its software to entrepreneurs and companies that want to bring intelligent , low-cost robots to market . Later this year , Brain Corporation will start offering a ready-made circuit board with a smartphone processor and BrainOS installed to certain partners . Building a trainable robot would involve connecting that \" brain \" to a physical robot body . The chip on that board is made by mobile processor company Qualcomm , which is an investor in Brain Corporation . At the Mobile Developers Conference in San Francisco last week , a wheeled robot with twin cameras powered by one of Brain Corporation 's circuit boards was trained live on stage . In one demo , the robot , called EyeRover , was steered along a specific route around a chair , sofa , and other obstacles a few times . It then repeated the route by itself . In a second demo , the robot was taught to come when a person beckoned to it . One person held one hand close to the robot 's twin cameras , so that EyeRover could lock onto it . A second person then maneuvered the robot forward and back in synchronization with the trainer 's hand . After being led through a rehearsal of the movements just twice , the robot correctly came when summoned . Those quick examples are hardly sophisticated . But Izhikevich says more extensive training conducted over days or weeks could teach a robot to perform a more complicated task such as pulling weeds out of the ground . A company would need to train only one robot , and could then copy its software to new robots with the same design before they headed to store shelves . Brain Corporation 's software is based on a combination of several different artificial intelligence techniques . Much of the power comes from using artificial neural networks , which are inspired by the way brain cells communicate , says Izhikevich . Brain Corporation was previously collaborating with Qualcomm on new forms of chip that write artificial neural networks into silicon ( see \" Qualcomm to Build Neuro-Inspired Chips \" ) . Those \" neuromorphic \" chips , as they are known , are purely research projects for the moment . But they might eventually offer a more powerful and efficient way to run software like BrainOS . Brain Corporation previously experimented with reinforcement learning , where a robot starts out randomly trying different behaviors , and a trainer rewards it with a virtual treat when it does the right thing . The approach worked , but had its downsides . \" Robots tend to harm themselves when they do that , \" says Izhikevich . Training robots through demonstration is a common technique in research labs , says Manuela Veloso , a robotics professor at Carnegie Mellon University . But the technique has been slower to catch on in the world of commercial robotics , she says . The only example on the market is the two-armed Baxter robot , aimed at light manufacturing . It can be trained in a new production line task by someone manually moving its arms to direct it through the motions it needs to perform ( see \" This Robot Could Transform Manufacturing \" ) . Sonia Chernova , an assistant professor in robotics at Worcester Polytechnic Institute , says that most other industrial robot companies are now working to add that type of learning to their own robots . But she adds that training could be tricky for mobile robots , which typically have to deal with more complex environments . Izhikevich acknowledges that training a robot via demonstration , while faster than programming it , produces less predictable behavior . You would n't want to use the technique to ensure that an autonomous car could detect jaywalkers , for example , he says . But for many simple tasks , it could be acceptable . \" Missing 2 percent of the weeds or strawberries you were supposed to pick is okay , \" he says . \" You can get them tomorrow . \" This summer a Minnesota startup began deploying an autonomous robot that rolls between corn plants spraying crop fertilizer . The robot applies fertilizer while the plant is rapidly growing and needs it most . This eliminates the need for using tractors , which can damage the high stalks , and reduces the amount of fertilizer needed earlier in the season , says Kent Cavender-Bares , CEO of the company , Rowbot . Further , by reducing the fertilizer , the robot reduces the amount of nitrogen that can end up polluting waterways after rainstorms . As the machine travels between rows , it can spray two rows of corn on either side of the machine . It uses GPS to know when it 's reached the end of the field , and LIDAR , or laser-scanning , to make sure it stays between rows of mature cornstalks without hitting them . Although such fields could also be fertilized at any time via irrigation , only about 15 percent of U.S. cornfields are irrigated . Rowbot developed its machine under a strategic partnership with Carnegie Robotics , which grew out of research at Carnegie-Mellon University . This summer Rowbot used its machine to fertilize 50 acres of corn , at a charge of $ 10 per acre plus the cost of fertilizer . Rowbot 's system is part of a technological revolution in farming that has gained momentum in recent years . GPS-guided tractors routinely apply seed and fertilizer across large areas , and new airborne drones are providing farmers with high-resolution sensing ability ( see \" Agricultural Drones \" ) , although drone services ca n't yet be offered commercially in the United States . Mike Schmitt , a professor in the Department of Soil , Water , and Climate at the University of Minnesota , who has no ties to the startup , says the robot is \" a great additional tool to put in the nutrient management technology toolkit . \" Schmitt says the ability to apply fertilizer at precise times and locations is \" very critical . \" Rowbot , which is operating on $ 2.5 million of seed funding , is in discussions with researchers at the University of Illinois to prove the advantages of its approach . The next step is to deploy multiple Rowbots on industrial-scale farms , and to add more sensing capacity to the machines . The company is also testing using them for planting seed on cornfields for fall crops , called cover crops , while the mature corn is still standing .\n"
     ]
    }
   ],
   "source": [
    "# punct = re.compile(r'(^A-Za-z\\s)')\n",
    "\n",
    "#어절 내의 패턴을 분석 (?:^|\\s), (?:$|\\s)로 어절을 구분함\n",
    "front_punct_p = re.compile(r'(?:^|\\s)([^A-Za-z\\s0-9]+)([A-Za-z0-9\\-]+)(?:$|\\s)') #ex: \"Robots > \" Robots\n",
    "back_punct_p = re.compile(r'(?:^|\\s)([A-Za-z0-9\\-]+)([^A-Za-z\\s0-9]+)(?:$|\\s)') #ex: the movie\" > the movie \"\n",
    "both_punct_p = re.compile(r'(?:^|\\s)([^A-Za-z\\s0-9]+)([A-Za-z0-9\\-]+)([^A-Za-z\\s0-9]+)(?:$|\\s)') #ex: \"nucleus\" > \" nucleus \"\n",
    "\n",
    "clitics_p = re.compile(r\"(?:^|\\s)(\\S+?)(n't|'s)(?:$|\\s)\") #ex: n't, 's \n",
    "\n",
    "puncts_p = re.compile(r\"(?:^|\\s)([^A-Za-z\\s0-9])([^A-Za-z\\s0-9]+)(?:$|\\s)\") #ex: )\". > ) \" .\n",
    "\n",
    "#완전하지 않음\n",
    "numerics_with_unit_front_p = re.compile(r\"(?:^|\\s)([^A-Za-z\\s0-9]+)([0-9][\\.\\,0-9]*)(?:$|\\s)\") #ex: $2,000 > $ 2,000\n",
    "numerics_with_unit_back_p = re.compile(r\"(?:^|\\s)([0-9][\\.\\,0-9]*)([A-Za-z]]+?)(?:$|\\s)\") #ex: 1,000won\n",
    "\n",
    "#2번 적용해 줘야 함. 띄어쓰기가 겹치기 때문, 순서가 중요함. clitics가 먼저 적용될 경우 원하는 결과가 안 나올 수 있다.\n",
    "\n",
    "data = front_punct_p.sub(r' \\1 \\2 ', data)\n",
    "data = back_punct_p.sub(r' \\1 \\2 ', data)\n",
    "data = both_punct_p.sub(r' \\1 \\2 \\3 ', data)\n",
    "\n",
    "data = front_punct_p.sub(r' \\1 \\2 ', data)\n",
    "data = back_punct_p.sub(r' \\1 \\2 ', data)\n",
    "data = both_punct_p.sub(r' \\1 \\2 \\3 ', data)\n",
    "\n",
    "data = clitics_p.sub(r' \\1 \\2 ', data)\n",
    "\n",
    "while True: #punctuation 연쇄가 없을 때까지 계속 띄어줌\n",
    "    if not puncts_p.findall(data): #비어있으면, 즉, punctuation 연쇄가 없으면\n",
    "        break\n",
    "    data = puncts_p.sub(r' \\1 \\2 ', data)\n",
    "\n",
    "\n",
    "data = numerics_with_unit_front_p.sub(r' \\1 \\2 ', data)\n",
    "data = numerics_with_unit_back_p.sub(r' \\1 \\2 ', data)\n",
    "\n",
    "data = re.sub('\\s+', ' ', data) #띄어쓰기 1번(사실상 2번) 이상된 경우를 하나로\n",
    "data = data.strip()\n",
    "\n",
    "# data = data.split() ## split 적용 시 띄어쓰기 기준으로 tokenization 진행됨.\n",
    "\n",
    "with open('data_tokenized.txt', 'w', encoding = 'utf8') as f:\n",
    "    f.write(data)\n",
    "\n",
    "print(data)"
   ]
  },
  {
   "cell_type": "code",
   "execution_count": 30,
   "metadata": {},
   "outputs": [
    {
     "output_type": "execute_result",
     "data": {
      "text/plain": [
       "[(',', 101),\n",
       " ('the', 84),\n",
       " ('.', 79),\n",
       " ('to', 62),\n",
       " ('a', 45),\n",
       " ('of', 43),\n",
       " ('\"', 42),\n",
       " ('in', 32),\n",
       " ('it', 29),\n",
       " ('that', 27),\n",
       " ('and', 22),\n",
       " ('robot', 21),\n",
       " ('is', 21),\n",
       " ('for', 16),\n",
       " ('with', 16),\n",
       " ('at', 15),\n",
       " ('says', 15),\n",
       " ('on', 13),\n",
       " ('robots', 10),\n",
       " ('its', 10),\n",
       " ('by', 10),\n",
       " ('could', 9),\n",
       " ('an', 9),\n",
       " ('are', 9),\n",
       " ('more', 9),\n",
       " ('would', 8),\n",
       " ('as', 8),\n",
       " ('company', 8),\n",
       " (\"'s\", 8),\n",
       " ('was', 8),\n",
       " ('brain_corporation', 8),\n",
       " ('has', 8),\n",
       " ('said', 8),\n",
       " ('watson', 8),\n",
       " ('ibm', 7),\n",
       " ('see', 7),\n",
       " ('out', 7),\n",
       " ('fertilizer', 7),\n",
       " ('be', 7),\n",
       " ('you', 7)]"
      ]
     },
     "metadata": {},
     "execution_count": 30
    }
   ],
   "source": [
    "## word frequency\n",
    "#porter stemmer? mwe\n",
    "##MWE 묶어주기\n",
    "#대문자 2번 반복 -> 개체명 #San Francisco -> San_Francisco\n",
    "ne_upper_case_mwe_p = re.compile(r'(?:^|\\s)([A-Z]\\S+)(?:\\s)([A-Z]\\S+)(?:$|\\s)')\n",
    "while True:\n",
    "    if not ne_upper_case_mwe_p.findall(data):\n",
    "        break\n",
    "    data = ne_upper_case_mwe_p.sub(r' \\1_\\2 ', data)\n",
    "# print(data)\n",
    "\n",
    "word_tokens = data.split()\n",
    "word_tokens_lower = list(map(lambda x: x.lower(), word_tokens))\n",
    "\n",
    "word_freq_list = []\n",
    "for w in list(set(word_tokens_lower)):\n",
    "    word_freq_list.append((w,word_tokens_lower.count(w)))\n",
    "\n",
    "word_freq_list = sorted(word_freq_list, key = lambda x: x[1], reverse = True) #frequency 기준 내림차순 정렬\n",
    "word_freq_list[:40]\n",
    "\n",
    "##counter\n",
    "#word token list 받기\n",
    "\n",
    "##tuple로 만들기\n",
    "#set과 list로 구성\n",
    "#list(set())에서 loop 돌면서 list count 이용. word와 count값을 묶은 tuple로 구성하기."
   ]
  },
  {
   "cell_type": "code",
   "execution_count": 43,
   "metadata": {},
   "outputs": [
    {
     "output_type": "stream",
     "name": "stdout",
     "text": [
      "79\n['Three years after its artificial-intelligence engine Watson made its high-profile win on Jeopardy!, IBM is adapting the technology as it seeks practical commercial uses, an IBM executive explained yesterday at EmTech, a conference organized by MIT Technology Review.', 'The original version of Watson was built around a question-and-answer format optimized for the game show, but that turned out to be \"just the first building block\" in an emerging artificial-intelligence system, said Mike Rhodin, senior vice president of the IBM Watson Group.', 'Rhodin said IBM is refining Watson to make it more adept at providing the correct answer to a specific question in a specific domain?for example, by learning from previous queries.', '\"Just as [computer operating system] platforms emerged in the 1960s, we are seeing the beginnings of that kind of a system emerge in the information age,\" he said.', 'In the past year, despite skepticism in some quarters, the company has announced it was making more investments in the Watson platform (see \"Facing Doubters, IBM Expands Plans for Watson\").', 'It has also opened the platform to app developers (see \"Trained on Jeopardy!, Watson Is Headed for Your Pocket\").', 'Some results of that strategy are now emerging.', 'In one recent competition run by IBM, a startup called Majestyk came up with an app that added Watson functionality to a stuffed animal so that it could converse with a child and give feedback to educators?potentially revealing whether the child might have learning disabilities.', '\"We never would have thought of it; we don\\'t have that DNA,\" he said.', '\"It validated the idea that we needed to open up the platform and make it available to the startup marketplace.\"', 'Ultimately, Rhodin said, IBM will pursue a revenue-sharing model for any effort that reaches market.', 'The company also continues to pursue applications in the medical, financial, and legal sectors.', 'Using Watson to examine thousands of documents could, for example, help doctors see different diagnoses in order of probability and \"rule out things they didn\\'t think of,\" Rhodin said.', 'IBM has also been working with USAA, a company that provides financial services to U.S. military personnel.', 'The Watson engine analyzes more than 3,000 USAA documents about financial or health-care benefits and answers questions from USAA users.', 'At the EmTech conference, a questioner from USAA pointed out that the system was having some trouble, in part because it would not allow users to ask follow-up questions.', 'Each request was treated as a standalone problem, making Watson awkward to use at times.', 'Rhodin said he would meet with USAA later this week.', 'Even with such stumbles, IBM has high hopes for getting Watson to work well in medical settings (see \"Watson Goes to Work in the Hospital\").', 'And Rhodin said significant effort is now being expended on applying the technology to automated call centers.', \"Eugene Izhikevich thinks you shouldn't have to write code in order to teach robots new tricks.\", '\"It should be more like training a dog,\" he says.', '\"Instead of programming, you show it consistent examples of desired behavior.\"', \"Izhikevich's startup, Brain Corporation, based in San Diego, has developed an operating system for robots called BrainOS to make that possible.\", 'To teach a robot running the software to pick up trash, for example, you would use a remote control to repeatedly guide its gripper to perform that task.', 'After just minutes of repetition, the robot would take the initiative and start doing the task for itself.', '\"Once you train it, it\\'s fully autonomous,\" says Izhikevich, who is cofounder and CEO of the company.', 'Izhikevich says the approach will make it easier to produce low-cost service robots capable of simple tasks.', 'Programming robots to behave intelligently normally requires significant expertise, he says, pointing out that the most successful home robot today is the Roomba, released in 2002.', 'The Roomba is preprogrammed to perform one main task: driving around at random to cover as much of an area of floor as possible.', 'Brain Corporation hopes to make money by providing its software to entrepreneurs and companies that want to bring intelligent, low-cost robots to market.', 'Later this year, Brain Corporation will start offering a ready-made circuit board with a smartphone processor and BrainOS installed to certain partners.', 'Building a trainable robot would involve connecting that \"brain\" to a physical robot body.', 'The chip on that board is made by mobile processor company Qualcomm, which is an investor in Brain Corporation.', \"At the Mobile Developers Conference in San Francisco last week, a wheeled robot with twin cameras powered by one of Brain Corporation's circuit boards was trained live on stage.\", 'In one demo, the robot, called EyeRover, was steered along a specific route around a chair, sofa, and other obstacles a few times.', 'It then repeated the route by itself.', 'In a second demo, the robot was taught to come when a person beckoned to it.', \"One person held one hand close to the robot's twin cameras, so that EyeRover could lock onto it.\", \"A second person then maneuvered the robot forward and back in synchronization with the trainer's hand.\", 'After being led through a rehearsal of the movements just twice, the robot correctly came when summoned.', 'Those quick examples are hardly sophisticated.', 'But Izhikevich says more extensive training conducted over days or weeks could teach a robot to perform a more complicated task such as pulling weeds out of the ground.', 'A company would need to train only one robot, and could then copy its software to new robots with the same design before they headed to store shelves.', \"Brain Corporation's software is based on a combination of several different artificial intelligence techniques.\", 'Much of the power comes from using artificial neural networks, which are inspired by the way brain cells communicate, says Izhikevich.', 'Brain Corporation was previously collaborating with Qualcomm on new forms of chip that write artificial neural networks into silicon (see \"Qualcomm to Build Neuro-Inspired Chips\").', 'Those \"neuromorphic\" chips, as they are known, are purely research projects for the moment.', 'But they might eventually offer a more powerful and efficient way to run software like BrainOS.', 'Brain Corporation previously experimented with reinforcement learning, where a robot starts out randomly trying different behaviors, and a trainer rewards it with a virtual treat when it does the right thing.', 'The approach worked, but had its downsides.', '\"Robots tend to harm themselves when they do that,\" says Izhikevich.', 'Training robots through demonstration is a common technique in research labs, says Manuela Veloso, a robotics professor at Carnegie Mellon University.', 'But the technique has been slower to catch on in the world of commercial robotics, she says.', 'The only example on the market is the two-armed Baxter robot, aimed at light manufacturing.', 'It can be trained in a new production line task by someone manually moving its arms to direct it through the motions it needs to perform (see \"This Robot Could Transform Manufacturing\").', 'Sonia Chernova, an assistant professor in robotics at Worcester Polytechnic Institute, says that most other industrial robot companies are now working to add that type of learning to their own robots.', 'But she adds that training could be tricky for mobile robots, which typically have to deal with more complex environments.', 'Izhikevich acknowledges that training a robot via demonstration, while faster than programming it, produces less predictable behavior.', \"You wouldn't want to use the technique to ensure that an autonomous car could detect jaywalkers, for example, he says.\", 'But for many simple tasks, it could be acceptable.', '\"Missing 2 percent of the weeds or strawberries you were supposed to pick is okay,\" he says.', '\"You can get them tomorrow.\"', 'This summer a Minnesota startup began deploying an autonomous robot that rolls between corn plants spraying crop fertilizer.', 'The robot applies fertilizer while the plant is rapidly growing and needs it most.', 'This eliminates the need for using tractors, which can damage the  high stalks, and reduces the amount of fertilizer needed earlier in the season, says Kent Cavender-Bares, CEO of the company, Rowbot.', 'Further, by reducing the fertilizer, the robot reduces the amount of nitrogen that can end up polluting waterways after rainstorms.', 'As the machine travels between rows, it can spray two rows of corn on either side of the machine.', \"It uses GPS to know when it's reached the end of the field, and LIDAR, or laser-scanning, to make sure it stays between rows of mature cornstalks without hitting them.\", 'Although such fields could also be fertilized at any time via irrigation, only about 15 percent of U.S. cornfields are irrigated.', 'Rowbot developed its machine under a strategic partnership with Carnegie Robotics, which grew out of research at Carnegie-Mellon University.', 'This summer Rowbot used its machine to fertilize 50 acres of corn, at a charge of $10 per acre plus the cost of fertilizer.', \"Rowbot's system is part of a technological revolution in farming that has gained momentum in recent years.\", 'GPS-guided tractors routinely apply seed and fertilizer across large areas, and new airborne drones are providing farmers with high-resolution sensing ability (see \"Agricultural Drones\"), although drone services can\\'t yet be offered commercially in the United States.', 'Mike Schmitt, a professor in the Department of Soil, Water, and Climate at the University of Minnesota, who has no ties to the startup, says the robot is \"a great additional tool to put in the nutrient management technology toolkit.\"', 'Schmitt says the ability to apply fertilizer at precise times and locations is \"very critical.\"', 'Rowbot, which is operating on $2.5 million of seed funding, is in discussions with researchers at the University of Illinois to prove the advantages of its approach.', 'The next step is to deploy multiple Rowbots on industrial-scale farms, and to add more sensing capacity to the machines.', 'The company is also testing using them for planting seed on cornfields for fall crops, called cover crops, while the mature corn is still standing.']\n"
     ]
    }
   ],
   "source": [
    "## Sentence segmentation    \n",
    "#'.'앞 문맥이 호칭어 종류거나 대문자+. 처럼 개체명의 일부가 아닌 경우에는 문장 종결자\n",
    "#또 .으로 안 끝나고 \\\"로 끝날 수도 있음, 현재 데이터셋 에서는 특이한 경우가 나타나지 않았음(호칭어 등)\n",
    "with open('data.txt', 'r') as f:\n",
    "    data = f.read()\n",
    "\n",
    "sent_seg_p = re.compile(r'([\\?!\\.][\\\"\\']?)(\\s+)([\\\"\\']?[A-Z])')\n",
    "\n",
    "data = sent_seg_p.sub(r'\\1\\n\\3', data) #문장을 개행문자 \"\\n\"로 구분하기 위해 문장별 개행문자 삽입\n",
    "\n",
    "sent_segs = data.split('\\n') #문장을 개행문자 \"\\n\"으로 분리\n",
    "\n",
    "print(len(sent_segs))\n",
    "print(sent_segs)\n"
   ]
  },
  {
   "cell_type": "code",
   "execution_count": 30,
   "metadata": {},
   "outputs": [
    {
     "output_type": "execute_result",
     "data": {
      "text/plain": [
       "'\" ) ,'"
      ]
     },
     "metadata": {},
     "execution_count": 30
    }
   ],
   "source": [
    "' '.join(list('\"),'))"
   ]
  },
  {
   "cell_type": "code",
   "execution_count": 18,
   "metadata": {},
   "outputs": [
    {
     "output_type": "stream",
     "name": "stderr",
     "text": [
      "[nltk_data] Downloading package punkt to\n",
      "[nltk_data]     C:\\Users\\YJW2\\AppData\\Roaming\\nltk_data...\n",
      "[nltk_data]   Unzipping tokenizers\\punkt.zip.\n"
     ]
    },
    {
     "output_type": "execute_result",
     "data": {
      "text/plain": [
       "True"
      ]
     },
     "metadata": {},
     "execution_count": 18
    }
   ],
   "source": [
    "nltk.download('punkt')"
   ]
  },
  {
   "cell_type": "code",
   "execution_count": 36,
   "metadata": {
    "tags": []
   },
   "outputs": [
    {
     "output_type": "stream",
     "name": "stdout",
     "text": [
      "[(',', 101), ('the', 86), ('.', 79), ('to', 62), ('a', 45), ('of', 43), ('in', 32), ('it', 29), ('that', 27), ('and', 23), ('is', 22), ('robot', 22), ('``', 21), (\"''\", 21), ('for', 17), ('with', 16), ('at', 15), ('says', 15), ('watson', 13), ('on', 13), ('its', 10), ('by', 10), ('could', 10), ('robots', 10), ('brain', 10), ('ibm', 9), ('an', 9), ('more', 9), ('are', 9), ('as', 8), ('was', 8), ('said', 8), ('company', 8), ('has', 8), ('would', 8), ('izhikevich', 8), (\"'s\", 8), ('corporation', 8), ('but', 7), ('out', 7)]\n79\n"
     ]
    }
   ],
   "source": [
    "## nltk 이용\n",
    "from nltk.tokenize import word_tokenize, TreebankWordTokenizer, sent_tokenize\n",
    "import collections\n",
    "# tokenizer=TreebankWordTokenizer()\n",
    "# print(tokenizer.tokenize(text))\n",
    "\n",
    "with open('data.txt', 'r') as f:\n",
    "    data = f.read()\n",
    "\n",
    "##tokenization\n",
    "word_tokens = word_tokenize(data)\n",
    "# print(word_tokens)\n",
    "\n",
    "##word_frequency\n",
    "word_tokens_lower = list(map(lambda x: x.lower(), word_tokens)) \n",
    "count = collections.Counter(word_tokens_lower)\n",
    "most = count.most_common() #빈도 수 순으로 추출\n",
    "print(most[:40])\n",
    "\n",
    "##sentence_segmentation\n",
    "sent_segments = sent_tokenize(data)\n",
    "print(len(sent_segments))\n",
    "# print(sent_segments)"
   ]
  },
  {
   "cell_type": "code",
   "execution_count": 1,
   "metadata": {},
   "outputs": [
    {
     "output_type": "error",
     "ename": "NameError",
     "evalue": "name 'sent_segs' is not defined",
     "traceback": [
      "\u001b[1;31m---------------------------------------------------------------------------\u001b[0m",
      "\u001b[1;31mNameError\u001b[0m                                 Traceback (most recent call last)",
      "\u001b[1;32m<ipython-input-1-29346f5796dd>\u001b[0m in \u001b[0;36m<module>\u001b[1;34m\u001b[0m\n\u001b[0;32m      1\u001b[0m \u001b[1;31m# print(sent_segments)\u001b[0m\u001b[1;33m\u001b[0m\u001b[1;33m\u001b[0m\u001b[1;33m\u001b[0m\u001b[0m\n\u001b[1;32m----> 2\u001b[1;33m \u001b[1;32mfor\u001b[0m \u001b[0mi\u001b[0m\u001b[1;33m,\u001b[0m \u001b[0ms\u001b[0m \u001b[1;32min\u001b[0m \u001b[0menumerate\u001b[0m\u001b[1;33m(\u001b[0m\u001b[0msent_segs\u001b[0m\u001b[1;33m)\u001b[0m\u001b[1;33m:\u001b[0m\u001b[1;33m\u001b[0m\u001b[1;33m\u001b[0m\u001b[0m\n\u001b[0m\u001b[0;32m      3\u001b[0m     \u001b[1;32mif\u001b[0m \u001b[0ms\u001b[0m \u001b[1;33m!=\u001b[0m \u001b[0msent_segments\u001b[0m\u001b[1;33m[\u001b[0m\u001b[0mi\u001b[0m\u001b[1;33m]\u001b[0m\u001b[1;33m:\u001b[0m\u001b[1;33m\u001b[0m\u001b[1;33m\u001b[0m\u001b[0m\n\u001b[0;32m      4\u001b[0m         \u001b[0mprint\u001b[0m\u001b[1;33m(\u001b[0m\u001b[0mi\u001b[0m\u001b[1;33m,\u001b[0m \u001b[0ms\u001b[0m\u001b[1;33m)\u001b[0m\u001b[1;33m\u001b[0m\u001b[1;33m\u001b[0m\u001b[0m\n\u001b[0;32m      5\u001b[0m         \u001b[0mprint\u001b[0m\u001b[1;33m(\u001b[0m\u001b[0mi\u001b[0m\u001b[1;33m,\u001b[0m \u001b[0msent_segments\u001b[0m\u001b[1;33m[\u001b[0m\u001b[0mi\u001b[0m\u001b[1;33m]\u001b[0m\u001b[1;33m)\u001b[0m\u001b[1;33m\u001b[0m\u001b[1;33m\u001b[0m\u001b[0m\n",
      "\u001b[1;31mNameError\u001b[0m: name 'sent_segs' is not defined"
     ]
    }
   ],
   "source": [
    "# # print(sent_segments)\n",
    "# for i, s in enumerate(sent_segs):\n",
    "#     if s != sent_segments[i]:\n",
    "#         print(i, s)\n",
    "#         print(i, sent_segments[i])\n"
   ]
  },
  {
   "cell_type": "code",
   "execution_count": 3,
   "metadata": {},
   "outputs": [
    {
     "output_type": "stream",
     "name": "stdout",
     "text": [
      "showing info https://raw.githubusercontent.com/nltk/nltk_data/gh-pages/index.xml\n"
     ]
    },
    {
     "output_type": "execute_result",
     "data": {
      "text/plain": [
       "True"
      ]
     },
     "metadata": {},
     "execution_count": 3
    }
   ],
   "source": [
    "import nltk\n",
    "nltk.download()"
   ]
  },
  {
   "cell_type": "code",
   "execution_count": 12,
   "metadata": {},
   "outputs": [
    {
     "output_type": "execute_result",
     "data": {
      "text/plain": [
       "'tie'"
      ]
     },
     "metadata": {},
     "execution_count": 12
    }
   ],
   "source": [
    "from nltk.stem import PorterStemmer \n",
    "stemmer = PorterStemmer()\n",
    "stemmer.stem('ties')"
   ]
  },
  {
   "cell_type": "code",
   "execution_count": null,
   "metadata": {},
   "outputs": [],
   "source": []
  }
 ]
}