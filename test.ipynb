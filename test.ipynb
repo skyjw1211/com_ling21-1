{
 "metadata": {
  "language_info": {
   "codemirror_mode": {
    "name": "ipython",
    "version": 3
   },
   "file_extension": ".py",
   "mimetype": "text/x-python",
   "name": "python",
   "nbconvert_exporter": "python",
   "pygments_lexer": "ipython3",
   "version": "3.7.6-final"
  },
  "orig_nbformat": 2,
  "kernelspec": {
   "name": "python3",
   "display_name": "Python 3.7.6 64-bit (conda)",
   "metadata": {
    "interpreter": {
     "hash": "13ae15b2b65dbdeeefd88d10d912a2830bdcc0ccf77ec2cf2099771942fa920d"
    }
   }
  }
 },
 "nbformat": 4,
 "nbformat_minor": 2,
 "cells": [
  {
   "cell_type": "code",
   "execution_count": 1,
   "metadata": {},
   "outputs": [],
   "source": [
    "import re\n",
    "\n",
    "with open(\"data.txt\", 'r', encoding = 'utf8') as f:\n",
    "    corpus = f.read()"
   ]
  },
  {
   "cell_type": "code",
   "execution_count": 6,
   "metadata": {},
   "outputs": [
    {
     "output_type": "stream",
     "name": "stdout",
     "text": [
      "Three years after its artificial-intelligence engine Watson made its high-profile win on Jeopardy!, IBM is adapting the technology as it seeks practical commercial uses, an IBM executive explained yesterday at EmTech, a conference organized by MIT Technology Review.\nThe original version of Watson was built around a question-and-answer format optimized for the game show, but that turned out to be \"just the first building block\" in an emerging artificial-intelligence system, said Mike Rhodin, senior vice president of the IBM Watson Group.\nRhodin said IBM is refining Watson to make it more adept at providing the correct answer to a specific question in a specific domain?for example, by learning from previous queries. \"Just as [computer operating system] platforms emerged in the 1960s, we are seeing the beginnings of that kind of a system emerge in the information age,\" he said.\nIn the past year, despite skepticism in some quarters, the company has announced it was making more investments in the Watson platform (see \"Facing Doubters, IBM Expands Plans for Watson\"). It has also opened the platform to app developers (see \"Trained on Jeopardy!, Watson Is Headed for Your Pocket\").\nSome results of that strategy are now emerging. In one recent competition run by IBM, a startup called Majestyk came up with an app that added Watson functionality to a stuffed animal so that it could converse with a child and give feedback to educators?potentially revealing whether the child might have learning disabilities.\n\"We never would have thought of it; we don't have that DNA,\" he said. \"It validated the idea that we needed to open up the platform and make it available to the startup marketplace.\"\nUltimately, Rhodin said, IBM will pursue a revenue-sharing model for any effort that reaches market.\nThe company also continues to pursue applications in the medical, financial, and legal sectors. Using Watson to examine thousands of documents could, for example, help doctors see different diagnoses in order of probability and \"rule out things they didn't think of,\" Rhodin said.\nIBM has also been working with USAA, a company that provides financial services to U.S. military personnel. The Watson engine analyzes more than 3,000 USAA documents about financial or health-care benefits and answers questions from USAA users.\nAt the EmTech conference, a questioner from USAA pointed out that the system was having some trouble, in part because it would not allow users to ask follow-up questions. Each request was treated as a standalone problem, making Watson awkward to use at times. Rhodin said he would meet with USAA later this week.\nEven with such stumbles, IBM has high hopes for getting Watson to work well in medical settings (see \"Watson Goes to Work in the Hospital\"). And Rhodin said significant effort is now being expended on applying the technology to automated call centers. \nEugene Izhikevich thinks you shouldn't have to write code in order to teach robots new tricks. \"It should be more like training a dog,\" he says.  \"Instead of programming, you show it consistent examples of desired behavior.\"\nIzhikevich's startup, Brain Corporation, based in San Diego, has developed an operating system for robots called BrainOS to make that possible. To teach a robot running the software to pick up trash, for example, you would use a remote control to repeatedly guide its gripper to perform that task. After just minutes of repetition, the robot would take the initiative and start doing the task for itself. \"Once you train it, it's fully autonomous,\" says Izhikevich, who is cofounder and CEO of the company.\nIzhikevich says the approach will make it easier to produce low-cost service robots capable of simple tasks. Programming robots to behave intelligently normally requires significant expertise, he says, pointing out that the most successful home robot today is the Roomba, released in 2002. The Roomba is preprogrammed to perform one main task: driving around at random to cover as much of an area of floor as possible.\nBrain Corporation hopes to make money by providing its software to entrepreneurs and companies that want to bring intelligent, low-cost robots to market. Later this year, Brain Corporation will start offering a ready-made circuit board with a smartphone processor and BrainOS installed to certain partners. Building a trainable robot would involve connecting that \"brain\" to a physical robot body.\nThe chip on that board is made by mobile processor company Qualcomm, which is an investor in Brain Corporation. At the Mobile Developers Conference in San Francisco last week, a wheeled robot with twin cameras powered by one of Brain Corporation's circuit boards was trained live on stage.\nIn one demo, the robot, called EyeRover, was steered along a specific route around a chair, sofa, and other obstacles a few times. It then repeated the route by itself. In a second demo, the robot was taught to come when a person beckoned to it. One person held one hand close to the robot's twin cameras, so that EyeRover could lock onto it. A second person then maneuvered the robot forward and back in synchronization with the trainer's hand. After being led through a rehearsal of the movements just twice, the robot correctly came when summoned.\nThose quick examples are hardly sophisticated. But Izhikevich says more extensive training conducted over days or weeks could teach a robot to perform a more complicated task such as pulling weeds out of the ground. A company would need to train only one robot, and could then copy its software to new robots with the same design before they headed to store shelves.\nBrain Corporation's software is based on a combination of several different artificial intelligence techniques. Much of the power comes from using artificial neural networks, which are inspired by the way brain cells communicate, says Izhikevich. Brain Corporation was previously collaborating with Qualcomm on new forms of chip that write artificial neural networks into silicon (see \"Qualcomm to Build Neuro-Inspired Chips\"). Those \"neuromorphic\" chips, as they are known, are purely research projects for the moment. But they might eventually offer a more powerful and efficient way to run software like BrainOS.\nBrain Corporation previously experimented with reinforcement learning, where a robot starts out randomly trying different behaviors, and a trainer rewards it with a virtual treat when it does the right thing. The approach worked, but had its downsides. \"Robots tend to harm themselves when they do that,\" says Izhikevich.\nTraining robots through demonstration is a common technique in research labs, says Manuela Veloso, a robotics professor at Carnegie Mellon University. But the technique has been slower to catch on in the world of commercial robotics, she says. The only example on the market is the two-armed Baxter robot, aimed at light manufacturing. It can be trained in a new production line task by someone manually moving its arms to direct it through the motions it needs to perform (see \"This Robot Could Transform Manufacturing\").\nSonia Chernova, an assistant professor in robotics at Worcester Polytechnic Institute, says that most other industrial robot companies are now working to add that type of learning to their own robots. But she adds that training could be tricky for mobile robots, which typically have to deal with more complex environments.\nIzhikevich acknowledges that training a robot via demonstration, while faster than programming it, produces less predictable behavior. You wouldn't want to use the technique to ensure that an autonomous car could detect jaywalkers, for example, he says. But for many simple tasks, it could be acceptable. \"Missing 2 percent of the weeds or strawberries you were supposed to pick is okay,\" he says. \"You can get them tomorrow.\"\nThis summer a Minnesota startup began deploying an autonomous robot that rolls between corn plants spraying crop fertilizer.\n the fertilizer, the robot reduces the amount of nitrogen that can end up polluting waterways after rainstorms.\nAs the machine travels between rows, it can spray two rows of corn on either side of the machine. It uses GPS to know when it's reached the end of the field, and LIDAR, or laser-scanning, to make sure it stays between rows of mature cornstalks without hitting them. Although such fields could also be fertilized at any time via irrigation, only about 15 percent of U.S. cornfields are irrigated.\n to fertilize 50 acres of corn, at a charge of $10 per acre plus the cost of fertilizer.\n of a technological revolution in farming that has gained momentum in recent years. GPS-guided tractors routinely apply seed and fertilizer across large areas, and new airborne drones are providing farmers with high-resolution sensing ability (see \"Agricultural Drones\"), although drone services can't yet be offered commercially in the United States.\nMike Schmitt, a professor in the Department of Soil, Water, and Climate at the University of Minnesota, who has no ties to the startup, says the robot is \"a great additional tool to put in the nutrient management technology toolkit.\" Schmitt says the ability to apply fertilizer at precise times and locations is \"very critical.\"\n and to add more sensing capacity to the machines. The company is also testing using them for planting seed on cornfields for fall crops, called cover crops, while the mature corn is still standing.\n"
     ]
    }
   ],
   "source": [
    "#Rowbot이 포함된 토큰에 태그를 붙여줌\n",
    "corpus_changed = re.sub(r'(Rowbot\\S*)',r'<<<\\1>>>',corpus)\n",
    "with open(\"data_changed.txt\", 'w', encoding = 'utf8') as f:\n",
    "    f.write(corpus_changed)\n",
    "\n",
    "#line 별로 나누어 줌, *line마다 2개 이상의 문장이 들어가 있을 수 있음= line마다 2개 이상의 Rowbots가 포함돼 있을 수 있다.\n",
    "lines = corpus_changed.split('\\n')\n",
    "\n",
    "result = []\n",
    "for line in lines:\n",
    "    #line을 지우는 대신 최대 3의 문맥을 갖는 concordance를 뽑아내고자 함. 앞 뒤로 <CON></CON> 태그를 붙여 줌\n",
    "    #2개 이상의 Rowbots가 있을 수 있어 이와 같이 수행\n",
    "    concords = re.sub(r'((\\S+ ){0,3}(<<<Rowbot\\S*>>>)( \\S+){0,3})',r'<CON>\\1<CON>',line)\n",
    "    result.append(concords)\n",
    "\n",
    "    \n",
    "\n",
    "#line을 하나의 text로 \n",
    "corpus_result = '\\n'.join(result)\n",
    "print(corpus_result)\n",
    "\n",
    "# with open(\"data_result.txt\", 'w', encoding = 'utf8') as f:\n",
    "#     f.write(corpus_result)\n",
    "\n",
    "# print(corpus_result)\n"
   ]
  },
  {
   "cell_type": "code",
   "execution_count": 24,
   "metadata": {},
   "outputs": [
    {
     "output_type": "stream",
     "name": "stdout",
     "text": [
      "[\"def, ghs, <<<Rowbot's>>> das asb das.\", 'abc def, ghs, <<<Rowbot,>>> dcccs asb das.']\n"
     ]
    }
   ],
   "source": [
    "test = \"def, ghs, Rowbot's das asb das. ddd abc def, ghs, Rowbot, dcccs asb das. ddd\"\n",
    "test1 = re.sub(r'(Rowbot\\S*)',r'<<<\\1>>>',test)\n",
    "p = re.compile(r'((?:\\S+ ){0,3}<<<Rowbot\\S*>>>(?: \\S+){0,3})')\n",
    "text2 = p.findall(test1)\n",
    "\n",
    "print(text2)\n",
    "\n"
   ]
  },
  {
   "cell_type": "code",
   "execution_count": 122,
   "metadata": {},
   "outputs": [
    {
     "output_type": "execute_result",
     "data": {
      "text/plain": [
       "[]"
      ]
     },
     "metadata": {},
     "execution_count": 122
    }
   ],
   "source": [
    "a = []\n",
    "a+=[]\n",
    "a"
   ]
  },
  {
   "cell_type": "code",
   "execution_count": 1,
   "metadata": {},
   "outputs": [],
   "source": [
    "test_txt = \"\"\"assumes word senses. Within\t\tin the U.S.A., people often\n",
    "does the clustering. In the\t\t\tJohn?\", he often thought, but\n",
    "but when? It was hard to tell\t\tweighed 17.5 grams\n",
    "he arrive.\" After she had\t\t\twell ... they'd better not\n",
    "mess! He did not let it\t\t\tA.I. has long been a very\n",
    "it wasn't hers!' She replied\t\t\tlike that\", he thought\n",
    "always thought so.) Then\t\t\tbut W. G. Grace never had much\"\"\""
   ]
  },
  {
   "cell_type": "code",
   "execution_count": 2,
   "metadata": {},
   "outputs": [
    {
     "output_type": "execute_result",
     "data": {
      "text/plain": [
       "'assumes word senses. Within\\t\\tin the U.S.A., people often\\ndoes the clustering. In the\\t\\t\\tJohn?\", he often thought, but\\nbut when? It was hard to tell\\t\\tweighed 17.5 grams\\nhe arrive.\" After she had\\t\\t\\twell ... they\\'d better not\\nmess! He did not let it\\t\\t\\tA.I. has long been a very\\nit wasn\\'t hers!\\' She replied\\t\\t\\tlike that\", he thought\\nalways thought so.) Then\\t\\t\\tbut W. G. Grace never had much'"
      ]
     },
     "metadata": {},
     "execution_count": 2
    }
   ],
   "source": [
    "test_txt"
   ]
  },
  {
   "cell_type": "code",
   "execution_count": 1,
   "metadata": {},
   "outputs": [],
   "source": [
    "import re\n",
    "import pandas as pd"
   ]
  },
  {
   "cell_type": "code",
   "execution_count": 2,
   "metadata": {},
   "outputs": [
    {
     "output_type": "error",
     "ename": "NameError",
     "evalue": "name 'test_txt' is not defined",
     "traceback": [
      "\u001b[1;31m---------------------------------------------------------------------------\u001b[0m",
      "\u001b[1;31mNameError\u001b[0m                                 Traceback (most recent call last)",
      "\u001b[1;32m<ipython-input-2-143fb203abab>\u001b[0m in \u001b[0;36m<module>\u001b[1;34m\u001b[0m\n\u001b[1;32m----> 1\u001b[1;33m \u001b[0mre\u001b[0m\u001b[1;33m.\u001b[0m\u001b[0mfindall\u001b[0m\u001b[1;33m(\u001b[0m\u001b[1;34mr'[^A-Z][\\.\\?\\)\\!\\”\\’]+ [A-Z]'\u001b[0m\u001b[1;33m,\u001b[0m \u001b[0mtest_txt\u001b[0m\u001b[1;33m)\u001b[0m\u001b[1;33m\u001b[0m\u001b[1;33m\u001b[0m\u001b[0m\n\u001b[0m",
      "\u001b[1;31mNameError\u001b[0m: name 'test_txt' is not defined"
     ]
    }
   ],
   "source": [
    "re.findall(r'[^A-Z][\\.\\?\\)\\!\\”\\’]+ [A-Z]', test_txt)"
   ]
  },
  {
   "cell_type": "code",
   "execution_count": 3,
   "metadata": {},
   "outputs": [
    {
     "output_type": "execute_result",
     "data": {
      "text/plain": [
       "    state  b  a  ! end\n",
       "0       0  1          \n",
       "1       1     2       \n",
       "2       2     3       \n",
       "3       3     3  4    \n",
       "4  accept             "
      ],
      "text/html": "<div>\n<style scoped>\n    .dataframe tbody tr th:only-of-type {\n        vertical-align: middle;\n    }\n\n    .dataframe tbody tr th {\n        vertical-align: top;\n    }\n\n    .dataframe thead th {\n        text-align: right;\n    }\n</style>\n<table border=\"1\" class=\"dataframe\">\n  <thead>\n    <tr style=\"text-align: right;\">\n      <th></th>\n      <th>state</th>\n      <th>b</th>\n      <th>a</th>\n      <th>!</th>\n      <th>end</th>\n    </tr>\n  </thead>\n  <tbody>\n    <tr>\n      <th>0</th>\n      <td>0</td>\n      <td>1</td>\n      <td></td>\n      <td></td>\n      <td></td>\n    </tr>\n    <tr>\n      <th>1</th>\n      <td>1</td>\n      <td></td>\n      <td>2</td>\n      <td></td>\n      <td></td>\n    </tr>\n    <tr>\n      <th>2</th>\n      <td>2</td>\n      <td></td>\n      <td>3</td>\n      <td></td>\n      <td></td>\n    </tr>\n    <tr>\n      <th>3</th>\n      <td>3</td>\n      <td></td>\n      <td>3</td>\n      <td>4</td>\n      <td></td>\n    </tr>\n    <tr>\n      <th>4</th>\n      <td>accept</td>\n      <td></td>\n      <td></td>\n      <td></td>\n      <td></td>\n    </tr>\n  </tbody>\n</table>\n</div>"
     },
     "metadata": {},
     "execution_count": 3
    }
   ],
   "source": [
    "states = [(0, 1, '', '', ''),\\\n",
    "        (1, '', 2, '', ''),\\\n",
    "        (2, '', 3, '', ''),\\\n",
    "        (3, '', 3, 4, ''),\\\n",
    "        ('accept', '', '', '', '')]\n",
    "\n",
    "trans_table = pd.DataFrame(states, columns=('state', 'b','a','!','end'))\n",
    "trans_table"
   ]
  },
  {
   "cell_type": "code",
   "execution_count": 4,
   "metadata": {},
   "outputs": [
    {
     "output_type": "execute_result",
     "data": {
      "text/plain": [
       "True"
      ]
     },
     "metadata": {},
     "execution_count": 4
    }
   ],
   "source": [
    "trans_table['state'][4] == 'accept'"
   ]
  },
  {
   "cell_type": "code",
   "execution_count": 7,
   "metadata": {},
   "outputs": [],
   "source": [
    "def d_recognize(string, trans_table=trans_table): #string = tape, \n",
    "    #값 초기화\n",
    "    idx = 0\n",
    "    current_state = 0\n",
    "    last_index = len(string)\n",
    "\n",
    "    while True:\n",
    "        if idx == last_index:\n",
    "            if trans_table['state'][current_state] == 'accept':\n",
    "                print('accept')\n",
    "                break\n",
    "            else:\n",
    "                print('reject')\n",
    "                break\n",
    "        elif trans_table[string[idx]][current_state] == '':\n",
    "            print('reject')\n",
    "            break\n",
    "        else:\n",
    "            current_state = trans_table[string[idx]][current_state]\n",
    "            idx += 1"
   ]
  },
  {
   "cell_type": "code",
   "execution_count": 10,
   "metadata": {},
   "outputs": [
    {
     "output_type": "stream",
     "name": "stdout",
     "text": [
      "reject\n"
     ]
    }
   ],
   "source": [
    "d_recognize('baab!')"
   ]
  },
  {
   "cell_type": "code",
   "execution_count": 18,
   "metadata": {},
   "outputs": [
    {
     "output_type": "execute_result",
     "data": {
      "text/plain": [
       "'b'"
      ]
     },
     "metadata": {},
     "execution_count": 18
    }
   ],
   "source": [
    "'baa!'[0]"
   ]
  },
  {
   "cell_type": "code",
   "execution_count": null,
   "metadata": {},
   "outputs": [],
   "source": []
  }
 ]
}